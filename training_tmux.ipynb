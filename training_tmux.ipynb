{
 "cells": [
  {
   "cell_type": "markdown",
   "id": "e63585bb",
   "metadata": {},
   "source": [
    "To install tmux:"
   ]
  },
  {
   "cell_type": "code",
   "execution_count": null,
   "id": "ae212a4e",
   "metadata": {},
   "outputs": [],
   "source": [
    "!apt install tmux"
   ]
  },
  {
   "cell_type": "markdown",
   "id": "735c86ea",
   "metadata": {},
   "source": [
    "To create a new tmux session with a specific name, use:"
   ]
  },
  {
   "cell_type": "markdown",
   "id": "22203ede",
   "metadata": {},
   "source": [
    "To train with a single GPU:"
   ]
  },
  {
   "cell_type": "code",
   "execution_count": null,
   "id": "c6ac9428",
   "metadata": {},
   "outputs": [],
   "source": [
    "%%bash\n",
    "tmux new -s training\n",
    "export HYDRA_FULL_ERROR=1\n",
    "export SWANLAB_API_KEY=5TOzU7GbsK5BB7oFIYFcq\n",
    "python train.py train.num_gpus=1 train.epochs=4"
   ]
  },
  {
   "cell_type": "markdown",
   "id": "b5754341",
   "metadata": {},
   "source": [
    "To train with 2 GPUs:"
   ]
  },
  {
   "cell_type": "code",
   "execution_count": null,
   "id": "63ea58ad",
   "metadata": {},
   "outputs": [],
   "source": [
    "%%bash\n",
    "tmux new -s training\n",
    "export HYDRA_FULL_ERROR=1\n",
    "export SWANLAB_API_KEY=5TOzU7GbsK5BB7oFIYFcq\n",
    "python train.py train.num_gpus=2"
   ]
  },
  {
   "cell_type": "markdown",
   "id": "89e7d63b",
   "metadata": {},
   "source": [
    "To detach from the tmux session, press Ctrl+b then d, or run:"
   ]
  },
  {
   "cell_type": "code",
   "execution_count": 2,
   "id": "6034699f",
   "metadata": {},
   "outputs": [],
   "source": [
    "!tmux detach"
   ]
  },
  {
   "cell_type": "markdown",
   "id": "50bd214e",
   "metadata": {},
   "source": [
    "To reattach to the tmux session, run the following in at terminal, not ipynb:"
   ]
  },
  {
   "cell_type": "code",
   "execution_count": 1,
   "id": "527e4acc",
   "metadata": {},
   "outputs": [
    {
     "name": "stdout",
     "output_type": "stream",
     "text": [
      "\u001b7\u001b[?47h\u001b[m\u001b[?1l\u001b>\u001b[H\u001b[2J\u001b[?1000l\u001b[?1006l\u001b[?1005l\u001b[c\u001b[>4;1m\u001b[?1004h\u001b]112\u0007\u001b[32m\u001b[15;1H────────────────────────────────────────────────────────────────────────────────\u001b[m\u001b[16;1H················································································\u001b[17;1H················································································\u001b[18;1H················································································\u001b[19;1H················································································\u001b[20;1H················································································\u001b[21;1H················································································\u001b[22;1H················································································\u001b[23;1H················································································\u001b[1;1H\u001b[mTraining finished, logs are saved to outputs/moe_1GPU/lr1.25e-05/Emb_moeTrue_Transformer_moeFalse/2025_07_18_36BS_4epochs/2025-07-18_19-23\u001b[K\n",
      "\u001b[34m\u001b[1mswanlab\u001b[m\u001b[1m:\u001b[m Experiment \u001b[33m2025_07_18_36BS_4epochs/2025-07-18_19-23\u001b[m has completed\u001b[K\n",
      "\u001b[34m\u001b[1mswanlab\u001b[m\u001b[1m:\u001b[m 🏠 View project at \u001b[34m\u001b[4mhttps://swanlab.cn/@hwh23/arp_moe\u001b[m\u001b[K\n",
      "\u001b[34m\u001b[1mswanlab\u001b[m\u001b[1m:\u001b[m 🚀 View run at \u001b[34m\u001b[4mhttps://swanlab.cn/@hwh23/arp_moe/runs/9bq037fjinv7jo2c0843e\u001b[m\u001b[K\n",
      "(arp) root@interactive55831:/opt/data/private/arp/arp/assembly_skills_learning# export HYDRA_FULL_ERROR=1                                                                   \u001b[K\n",
      "(arp) root@interactive55831:/opt/data/private/arp/arp/assembly_skills_learning# \u001b[11;1H(arp) root@interactive55831:/opt/data/private/arp/arp/assembly_skills_learning# \u001b[12;1H(arp) root@interactive55831:/opt/data/private/arp/arp/assembly_skills_learning# python train.py train.num_gpus=1 train.epochs=3^C\u001b[K\n",
      "\u001b[K\u001b[1;14r\u001b[H\u001b[14;1H(arp) root@interactive55831:/opt/data/private/arp/arp/assembly_skills_learning# \u001b[14;1H\u001b[1;24r\u001b[H\u001b[14;80H                  \"interactive55831\" 14:57 19-Jul-25\u001b[m\u001b[24;1H\u001b[1;24r\u001b[H\u001b[14;80H\u001b[Hnsformer_moeFalse/2025_07_18_36BS_4epochs/2025-07-18_19-23\u001b[K\n",
      "\u001b[34m\u001b[1mswanlab\u001b[m\u001b[1m:\u001b[m Experiment \u001b[33m2025_07_18_36BS_4epochs/2025-07-18_19-23\u001b[m has completed\u001b[K\n",
      "\u001b[34m\u001b[1mswanlab\u001b[m\u001b[1m:\u001b[m 🏠 View project at \u001b[34m\u001b[4mhttps://swanlab.cn/@hwh23/arp_moe\u001b[m\u001b[K\n",
      "\u001b[34m\u001b[1mswanlab\u001b[m\u001b[1m:\u001b[m 🚀 View run at \u001b[34m\u001b[4mhttps://swanlab.cn/@hwh23/arp_moe/runs/9bq037fjinv7jo2c0843e\u001b[m\u001b[K\n",
      "(arp) root@interactive55831:/opt/data/private/arp/arp/assembly_skills_learning# export HYDRA_FULL_ERROR=1                                                                   \u001b[K\n",
      "(arp) root@interactive55831:/opt/data/private/arp/arp/assembly_skills_learning# \u001b[10;1H(arp) root@interactive55831:/opt/data/private/arp/arp/assembly_skills_learning# \u001b[11;1H(arp) root@interactive55831:/opt/data/private/arp/arp/assembly_skills_learning# python train.py train.num_gpus=1 train.epochs=3^C\u001b[K\n",
      "(arp) root@interactive55831:/opt/data/private/arp/arp/assembly_skills_learning# ^C\u001b[K\u001b[1;14r\u001b[H\u001b[14;1H\n",
      "\u001b[H\u001b[34m\u001b[1mswanlab\u001b[m\u001b[1m:\u001b[m Experiment \u001b[33m2025_07_18_36BS_4epochs/2025-07-18_19-23\u001b[m has completed\u001b[K\n",
      "\u001b[34m\u001b[1mswanlab\u001b[m\u001b[1m:\u001b[m 🏠 View project at \u001b[34m\u001b[4mhttps://swanlab.cn/@hwh23/arp_moe\u001b[m\u001b[K\n",
      "\u001b[34m\u001b[1mswanlab\u001b[m\u001b[1m:\u001b[m 🚀 View run at \u001b[34m\u001b[4mhttps://swanlab.cn/@hwh23/arp_moe/runs/9bq037fjinv7jo2c0843e\u001b[m\u001b[K\n",
      "(arp) root@interactive55831:/opt/data/private/arp/arp/assembly_skills_learning# export HYDRA_FULL_ERROR=1                                                                   \u001b[K\n",
      "(arp) root@interactive55831:/opt/data/private/arp/arp/assembly_skills_learning# \u001b[9;1H(arp) root@interactive55831:/opt/data/private/arp/arp/assembly_skills_learning# \u001b[10;1H(arp) root@interactive55831:/opt/data/private/arp/arp/assembly_skills_learning# python train.py train.num_gpus=1 train.epochs=3^C\u001b[K\n",
      "(arp) root@interactive55831:/opt/data/private/arp/arp/assembly_skills_learning# ^C\u001b[K\n",
      "\u001b[K\u001b[1;24r\u001b[H\u001b[14;1H\u001b[1;14r\u001b[H\u001b[14;1H(arp) root@interactive55831:/opt/data/private/arp/arp/assembly_skills_learning# \u001b[1;1H\u001b[34m\u001b[1mswanlab\u001b[m\u001b[1m:\u001b[m 🏠 View project at \u001b[34m\u001b[4mhttps://swanlab.cn/@hwh23/arp_moe\u001b[m\u001b[K\n",
      "\u001b[34m\u001b[1mswanlab\u001b[m\u001b[1m:\u001b[m 🚀 View run at \u001b[34m\u001b[4mhttps://swanlab.cn/@hwh23/arp_moe/runs/9bq037fjinv7jo2c0843e\u001b[m\u001b[K\n",
      "(arp) root@interactive55831:/opt/data/private/arp/arp/assembly_skills_learning# export HYDRA_FULL_ERROR=1                                                                   \u001b[K\n",
      "(arp) root@interactive55831:/opt/data/private/arp/arp/assembly_skills_learning# \u001b[8;1H(arp) root@interactive55831:/opt/data/private/arp/arp/assembly_skills_learning# \u001b[9;1H(arp) root@interactive55831:/opt/data/private/arp/arp/assembly_skills_learning# python train.py train.num_gpus=1 train.epochs=3^C\u001b[K\n",
      "(arp) root@interactive55831:/opt/data/private/arp/arp/assembly_skills_learning# ^C\u001b[K\n",
      "(arp) root@interactive55831:/opt/data/private/arp/arp/assembly_skills_learning#  \u001b[K\u001b[1;24r\u001b[H\u001b[14;1H\u001b[1;14r\u001b[H\u001b[14;1H^C\u001b[1;24r\u001b[H\u001b[14;3H\u001b[1;14r\u001b[H\u001b[14;1H\n",
      "\u001b[H\u001b[34m\u001b[1mswanlab\u001b[m\u001b[1m:\u001b[m 🚀 View run at \u001b[34m\u001b[4mhttps://swanlab.cn/@hwh23/arp_moe/runs/9bq037fjinv7jo2c0843e\u001b[m\u001b[K\n",
      "(arp) root@interactive55831:/opt/data/private/arp/arp/assembly_skills_learning# export HYDRA_FULL_ERROR=1                                                                   \u001b[K\n",
      "(arp) root@interactive55831:/opt/data/private/arp/arp/assembly_skills_learning# \u001b[7;1H(arp) root@interactive55831:/opt/data/private/arp/arp/assembly_skills_learning# \u001b[8;1H(arp) root@interactive55831:/opt/data/private/arp/arp/assembly_skills_learning# python train.py train.num_gpus=1 train.epochs=3^C\u001b[K\n",
      "(arp) root@interactive55831:/opt/data/private/arp/arp/assembly_skills_learning# ^C\u001b[K\n",
      "(arp) root@interactive55831:/opt/data/private/arp/arp/assembly_skills_learning# ^C\u001b[K\n",
      "\u001b[K\u001b[1;24r\u001b[H\u001b[14;1H\u001b[1;14r\u001b[H\u001b[14;1H(arp) root@interactive55831:/opt/data/private/arp/arp/assembly_skills_learning# \u001b[1;1H\u001b[34m\u001b[4mc0843e\u001b[m\u001b[K\n",
      "(arp) root@interactive55831:/opt/data/private/arp/arp/assembly_skills_learning# export HYDRA_FULL_ERROR=1                                                                   \u001b[K\n",
      "(arp) root@interactive55831:/opt/data/private/arp/arp/assembly_skills_learning# \u001b[6;1H(arp) root@interactive55831:/opt/data/private/arp/arp/assembly_skills_learning# \u001b[7;1H(arp) root@interactive55831:/opt/data/private/arp/arp/assembly_skills_learning# python train.py train.num_gpus=1 train.epochs=3^C\u001b[K\n",
      "(arp) root@interactive55831:/opt/data/private/arp/arp/assembly_skills_learning# ^C\u001b[K\n",
      "(arp) root@interactive55831:/opt/data/private/arp/arp/assembly_skills_learning# ^C\u001b[K\n",
      "(arp) root@interactive55831:/opt/data/private/arp/arp/assembly_skills_learning#  \u001b[K\u001b[1;24r\u001b[H\u001b[14;1H\u001b[H��███████████████████████████████████████████████████████████████████| 17777/17777 [19:30:23<00:00,  3.95s/it]\u001b[K\n",
      "Training finished, logs are saved to outputs/moe_1GPU/lr1.25e-05/Emb_moeTrue_Transformer_moeFalse/2025_07_18_36BS_4epochs/2025-07-18_19-23\u001b[K\n",
      "\u001b[34m\u001b[1mswanlab\u001b[m\u001b[1m:\u001b[m Experiment \u001b[33m2025_07_18_36BS_4epochs/2025-07-18_19-23\u001b[m has completed\u001b[K\n",
      "\u001b[34m\u001b[1mswanlab\u001b[m\u001b[1m:\u001b[m 🏠 View project at \u001b[34m\u001b[4mhttps://swanlab.cn/@hwh23/arp_moe\u001b[m\u001b[K\n",
      "\u001b[34m\u001b[1mswanlab\u001b[m\u001b[1m:\u001b[m 🚀 View run at \u001b[34m\u001b[4mhttps://swanlab.cn/@hwh23/arp_moe/runs/9bq037fjinv7jo2c0843e\u001b[m\u001b[K\n",
      "(arp) root@interactive55831:/opt/data/private/arp/arp/assembly_skills_learning# export HYDRA_FULL_ERROR=1                                                                   \u001b[K\n",
      "(arp) root@interactive55831:/opt/data/private/arp/arp/assembly_skills_learning# \u001b[15;1H(arp) root@interactive55831:/opt/data/private/arp/arp/assembly_skills_learning# \u001b[16;1H(arp) root@interactive55831:/opt/data/private/arp/arp/assembly_skills_learning# python train.py train.num_gpus=1 train.epochs=3^C\u001b[K\n",
      "(arp) root@interactive55831:/opt/data/private/arp/arp/assembly_skills_learning# ^C\u001b[K\n",
      "(arp) root@interactive55831:/opt/data/private/arp/arp/assembly_skills_learning# ^C\u001b[K\n",
      "(arp) root@interactive55831:/opt/data/private/arp/arp/assembly_skills_learning#  \u001b[K\n",
      "\u001b[30m\u001b[42m[training] 0:bash*                            \"interactive55831\" 14:57 19-Jul-25\u001b[m\u001b[23;1H\u001b[K\u001b[1;23r\u001b[H\u001b[22;1H(arp) root@interactive55831:/opt/data/private/arp/arp/assembly_skills_learning#  \u001b[1;24r\u001b[H\u001b[23;1H\u001b[1;23r\u001b[H\u001b[23;1H^C\u001b[1;24r\u001b[H\u001b[23;3H\u001b[1;23r\u001b[H\u001b[23;1H\n",
      "(arp) root@interactive55831:/opt/data/private/arp/arp/assembly_skills_learning#  \u001b[1;24r\u001b[H\u001b[23;1H"
     ]
    }
   ],
   "source": [
    "!tmux attach -t training"
   ]
  },
  {
   "cell_type": "markdown",
   "id": "f546374a",
   "metadata": {},
   "source": [
    "To Kill tmux session, use:"
   ]
  },
  {
   "cell_type": "code",
   "execution_count": 2,
   "id": "16106774",
   "metadata": {},
   "outputs": [
    {
     "name": "stdout",
     "output_type": "stream",
     "text": [
      "failed to connect to server\n"
     ]
    }
   ],
   "source": [
    "!tmux kill-session -t training"
   ]
  },
  {
   "cell_type": "markdown",
   "id": "4480c3ab",
   "metadata": {},
   "source": [
    "To list all tmux sessions, use:"
   ]
  },
  {
   "cell_type": "code",
   "execution_count": 1,
   "id": "1e4f9f9d",
   "metadata": {},
   "outputs": [
    {
     "name": "stdout",
     "output_type": "stream",
     "text": [
      "failed to connect to server\n"
     ]
    }
   ],
   "source": [
    "!tmux ls"
   ]
  }
 ],
 "metadata": {
  "kernelspec": {
   "display_name": "arp",
   "language": "python",
   "name": "python3"
  },
  "language_info": {
   "codemirror_mode": {
    "name": "ipython",
    "version": 3
   },
   "file_extension": ".py",
   "mimetype": "text/x-python",
   "name": "python",
   "nbconvert_exporter": "python",
   "pygments_lexer": "ipython3",
   "version": "3.8.19"
  }
 },
 "nbformat": 4,
 "nbformat_minor": 5
}
